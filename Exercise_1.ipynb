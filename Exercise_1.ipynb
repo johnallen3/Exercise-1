{
 "cells": [
  {
   "cell_type": "markdown",
   "id": "9c53460e-3bb7-4ee6-b77a-bba1809ba7ca",
   "metadata": {},
   "source": [
    "Problem 1 - Defining some variables\n",
    "\n",
    "In the top cell of the new notebook:\n",
    "\n",
    "Create a variable called ice_cream_rating and use it to store an integer value (whole number) between 0 and 10 that reflects your general \n",
    "opinion about how much you enjoy eating ice cream."
   ]
  },
  {
   "cell_type": "code",
   "execution_count": 15,
   "id": "c37fa64b-9fb8-468d-90cc-ebe87c281fc2",
   "metadata": {},
   "outputs": [],
   "source": [
    "ice_cream_rating = 8"
   ]
  },
  {
   "cell_type": "markdown",
   "id": "fc3cd61d-0934-4ff3-915c-2e155a50f183",
   "metadata": {},
   "source": [
    "Create another variable called sleeping_rating and use it to store another integer between 0 and 10 that reflects your opinion about \n",
    "how much you enjoy sleeping."
   ]
  },
  {
   "cell_type": "code",
   "execution_count": 16,
   "id": "64212190-77b2-4d34-b2c2-a4ae99580e33",
   "metadata": {},
   "outputs": [],
   "source": [
    "sleeping_rating = 7"
   ]
  },
  {
   "cell_type": "markdown",
   "id": "68edff0b-1974-4eb7-b592-47131d8d97c4",
   "metadata": {},
   "source": [
    "Problem 2 - Reading in variable values\n",
    "\n",
    "In the new cell that appears:\n",
    "\n",
    "   1. Use the input() function to prompt the user to enter their first name and store it in a variable called first_name.\n",
    "\n",
    "   2. Use the input() function again to prompt the user to enter their last name and store it in a variable called last_name.\n",
    "\n",
    "   3. (Optional) Define a third variable called my_name that will combine the user's first and last names into a single character \n",
    "   string with a space between the names.\n",
    "\n",
    "   4. Run the cell and enter the requested information at the prompts."
   ]
  },
  {
   "cell_type": "code",
   "execution_count": 37,
   "id": "e2d2e087-e7f0-4262-8d49-10392533f4d1",
   "metadata": {},
   "outputs": [
    {
     "name": "stdin",
     "output_type": "stream",
     "text": [
      "What is your first name? John\n",
      "And what is your last name? Allen\n"
     ]
    },
    {
     "name": "stdout",
     "output_type": "stream",
     "text": [
      "So your full name is John Allen . Is that correct?\n"
     ]
    }
   ],
   "source": [
    "first_name = input('What is your first name?')\n",
    "last_name = input('And what is your last name?')\n",
    "my_name = (first_name+' '+last_name)\n",
    "print('So your full name is', my_name, '. Is that correct?')"
   ]
  },
  {
   "cell_type": "markdown",
   "id": "8687e0e4-52dc-49f1-ac32-f261a67a5469",
   "metadata": {},
   "source": [
    "Problem 3 - A bit of math\n",
    "\n",
    "In order to assess happiness it is necessary to combine the ice cream and sleeping ratings. To do this:\n",
    "\n",
    "   1. Calculate the average of your ice_cream_rating and sleeping_rating variables and store the resulting value in a variable called happiness_rating.\n",
    "\n",
    "   2. Run the cell by pressing Shift-Enter."
   ]
  },
  {
   "cell_type": "code",
   "execution_count": 18,
   "id": "c99a810c-c519-4038-ba2e-302a17f5fd32",
   "metadata": {
    "tags": []
   },
   "outputs": [],
   "source": [
    "happiness_rating = (ice_cream_rating + sleeping_rating)/2"
   ]
  },
  {
   "cell_type": "markdown",
   "id": "0d9f303a-5c4c-469d-8a25-7779f9d58a2f",
   "metadata": {},
   "source": [
    "Problem 4 - Checking data types\n",
    "\n",
    "The next step is to investigate the kinds of data we're working with. In another Python cell:\n",
    "\n",
    "    1. Use a built-in Python function to check the data types of the ice_cream_rating, first_name, and happiness_rating variables. \n",
    "    In order to see the data types for more than one variable in a single Python cell, you will need to print out these values using another built-in Python function.\n",
    "\n",
    "    2. Run the cell by pressing Shift-Enter.\n",
    "\n",
    "    3. Did all of the data types make sense? Were there any data types that were different than you expected?\n",
    "    In the new Python cell that appeared after running the code above, enter your responses to the questions above.\n",
    "\n",
    "    4. For the cell containing your answers to the questions above, change the kind of cell from Code to Markdown.\n",
    "\n",
    "    5. Run the Markdown cell by pressing Shift-Enter.\n"
   ]
  },
  {
   "cell_type": "code",
   "execution_count": 21,
   "id": "6d04b51e-6f82-4fba-8625-54097e60409a",
   "metadata": {},
   "outputs": [
    {
     "name": "stdout",
     "output_type": "stream",
     "text": [
      "<class 'int'> <class 'str'> <class 'float'>\n"
     ]
    }
   ],
   "source": [
    "print(type(ice_cream_rating),type(first_name),type(happiness_rating))"
   ]
  },
  {
   "cell_type": "markdown",
   "id": "1889d2b9-39d8-451f-b97b-35fa9706e4de",
   "metadata": {},
   "source": [
    "Yes, the data types make sense. The only somewhat surprising result was that happines_rating was a float value. But that's fine, because it's\n",
    "7.5"
   ]
  },
  {
   "cell_type": "markdown",
   "id": "a6563905-0790-4c2a-a18a-2be64b1cf9a8",
   "metadata": {},
   "source": [
    "Problem 5 - Displaying text on the screen\n",
    "\n",
    "Finally, you can use your Python skills to generate output on the screen similar to that below. Use one command to generate each line of output.\n",
    "My name is Dave and I give eating ice cream a score of 9 out of 10!\n",
    "I am Dave Whipp and my sleeping enjoyment rating is 8 / 10!\n",
    "Based on the factors above, my happiness rating is 8.5 out of 10, or 85.0 %!"
   ]
  },
  {
   "cell_type": "code",
   "execution_count": 38,
   "id": "19d423d0-3e62-415f-ab84-3bd6eafae37d",
   "metadata": {},
   "outputs": [
    {
     "name": "stdout",
     "output_type": "stream",
     "text": [
      "My name is John and I give eating ice cream a score of 8 out of 10!\n",
      "My name is John Allen and my sleeping enjoyment rating is 7 / 10.\n",
      "Based on the factors above, my happiness rating is 7.5 out of 10, or just 75.0 % 🙁\n"
     ]
    }
   ],
   "source": [
    "print('My name is', first_name, 'and I give eating ice cream a score of', ice_cream_rating, 'out of 10!')\n",
    "print('My name is', my_name, 'and my sleeping enjoyment rating is', sleeping_rating, '/ 10.')\n",
    "print('Based on the factors above, my happiness rating is', happiness_rating, 'out of 10, or just', happiness_rating/10*100, '%',\"\\U0001F641\")\n",
    "\n",
    "\n"
   ]
  },
  {
   "cell_type": "code",
   "execution_count": null,
   "id": "319ca811-20f4-4ad3-a833-c3e767488e66",
   "metadata": {},
   "outputs": [],
   "source": []
  }
 ],
 "metadata": {
  "kernelspec": {
   "display_name": "Python 3 (ipykernel)",
   "language": "python",
   "name": "python3"
  },
  "language_info": {
   "codemirror_mode": {
    "name": "ipython",
    "version": 3
   },
   "file_extension": ".py",
   "mimetype": "text/x-python",
   "name": "python",
   "nbconvert_exporter": "python",
   "pygments_lexer": "ipython3",
   "version": "3.8.10"
  }
 },
 "nbformat": 4,
 "nbformat_minor": 5
}
